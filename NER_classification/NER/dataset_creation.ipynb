{
 "cells": [
  {
   "cell_type": "code",
   "execution_count": 67,
   "metadata": {},
   "outputs": [
    {
     "name": "stdout",
     "output_type": "stream",
     "text": [
      "API key loaded successfully.\n"
     ]
    }
   ],
   "source": [
    "import pandas as pd\n",
    "import os\n",
    "import re\n",
    "import json\n",
    "import numpy as np\n",
    "from openai import OpenAI\n",
    "from dotenv import load_dotenv\n",
    "from sklearn.model_selection import train_test_split\n",
    "import nltk\n",
    "from nltk.stem import WordNetLemmatizer\n",
    "\n",
    "# Load environment variables from .env file\n",
    "load_dotenv()\n",
    "\n",
    "# Retrieve the API key from environment variables\n",
    "NVIDIA_API_KEY = os.getenv('NVIDIA_API_KEY')\n",
    "\n",
    "if NVIDIA_API_KEY:\n",
    "    print(\"API key loaded successfully.\")\n",
    "else:\n",
    "    print(\"API key not found in .env file.\")"
   ]
  },
  {
   "cell_type": "code",
   "execution_count": 68,
   "metadata": {},
   "outputs": [],
   "source": [
    "popular_animals = [\n",
    "    \"dog\", \"cat\", \"horse\", \"elephant\", \"butterfly\", \"chicken\", \"cow\", \"sheep\",\n",
    "    \"squirrel\", \"spider\", \"lion\", \"tiger\", \"bear\", \"wolf\", \"giraffe\", \"zebra\",\n",
    "    \"rabbit\", \"fox\", \"deer\", \"panda\", \"kangaroo\", \"monkey\", \"dolphin\", \"shark\",\n",
    "    \"whale\", \"penguin\", \"eagle\", \"owl\", \"parrot\", \"snake\", \"turtle\", \"crocodile\",\n",
    "    \"octopus\", \"jellyfish\", \"frog\", \"ant\", \"bee\", \"bat\", \"rat\", \"mouse\",\n",
    "    \"cheetah\", \"leopard\", \"raccoon\", \"hippopotamus\", \"rhinoceros\", \"goat\", \"buffalo\",\n",
    "    \"chameleon\", \"cobra\", \"peacock\", \"ostrich\", \"flamingo\", \"seal\", \"walrus\",\n",
    "    \"beaver\", \"skunk\", \"armadillo\", \"porcupine\", \"hedgehog\", \"chipmunk\", \"badger\",\n",
    "    \"mole\", \"platypus\", \"sloth\", \"meerkat\", \"lynx\", \"cougar\", \"jaguar\", \"hyena\",\n",
    "    \"coyote\", \"bison\", \"moose\", \"reindeer\", \"elk\", \"crab\", \"lobster\", \"starfish\",\n",
    "    \"seahorse\", \"pufferfish\", \"stingray\", \"hammerhead shark\", \"manta ray\",\n",
    "    \"carp\", \"salmon\", \"trout\", \"goldfish\", \"gecko\", \"iguana\", \"komodo dragon\",\n",
    "    \"vulture\", \"falcon\", \"macaw\", \"woodpecker\", \"swallow\", \"sparrow\", \"caterpillar\",\n",
    "    \"scorpion\", \"mantis\", \"grasshopper\", \"firefly\", \"beetle\", \"earthworm\"\n",
    "]"
   ]
  },
  {
   "cell_type": "code",
   "execution_count": 69,
   "metadata": {},
   "outputs": [],
   "source": [
    "def generate_sentences(api_key: str, model_name: str, animals, output_path=\"dataset/dataset.json\"):\n",
    "    dataset = []\n",
    "    rng = np.random.default_rng(seed=123)\n",
    "    try:\n",
    "        client = OpenAI(\n",
    "            base_url=\"https://integrate.api.nvidia.com/v1\",\n",
    "            api_key=api_key\n",
    "        )\n",
    "\n",
    "        for animal in animals:\n",
    "            n = rng.integers(low=10, high=15)\n",
    "            prompt = (\n",
    "                f\"Generate {\n",
    "                    n} realistic, varied, and context-rich sentences that include the animal {animal}. \"\n",
    "                \"Each sentence should not be similar to the others, and they should all make sense in real-life contexts. \"\n",
    "                \"Do not repeat contexts or patterns, and avoid generic statements. \"\n",
    "                \"Include specific details to make each sentence unique and realistic.\"\n",
    "                \"Do not include comments or other unnecessary information.\"\n",
    "                \"Write only sentences without numbering\"\n",
    "            )\n",
    "\n",
    "            completion = client.chat.completions.create(\n",
    "                model=model_name,\n",
    "                messages=[{\"role\": \"user\", \"content\": prompt}],\n",
    "                temperature=0.7,\n",
    "                max_tokens=1024,\n",
    "                stream=False\n",
    "            )\n",
    "\n",
    "            sentences_for_animal = [\n",
    "                s.strip() for s in completion.choices[0].message.content.split('\\n') if s.strip()]\n",
    "            dataset.append(\n",
    "                {\"animal\": animal, \"sentences\": sentences_for_animal})\n",
    "\n",
    "        with open(output_path, 'w') as f:\n",
    "            json.dump(dataset, f, indent=2)\n",
    "        print(f\"Sentences generated and saved to {output_path}\")\n",
    "\n",
    "        return dataset\n",
    "    except Exception as e:\n",
    "        print(f\"Error generating sentences: {e}\")"
   ]
  },
  {
   "cell_type": "code",
   "execution_count": 70,
   "metadata": {},
   "outputs": [
    {
     "name": "stdout",
     "output_type": "stream",
     "text": [
      "Sentences generated and saved to dataset/dataset.json\n"
     ]
    },
    {
     "data": {
      "text/plain": [
       "{'animal': 'dog',\n",
       " 'sentences': ['The search and rescue team deployed a trained dog named Max to locate the missing hiker in the dense, rain-soaked woods of the Pacific Northwest.',\n",
       "  'As she walked into the vintage clothing store, a friendly dog named Lola, dressed in a matching polka-dot scarf, wagged its tail behind the counter.',\n",
       "  'After a long day of filming, the movie star relaxed with her emotional support dog, a calm Poodle named Fifi, in her luxurious trailer on set.',\n",
       "  \"During the physics experiment, the dog's curious nature inadvertently helped students at Springfield High School demonstrate the concept of gravity when it knocked over a ball.\",\n",
       "  'At precisely 6:00 AM, the dog, a sleek German Shepherd named Rocky, began its daily patrol around the perimeter of the secure, government facility.',\n",
       "  'The new dog park in suburban Chicago, featuring separate areas for large and small breeds, quickly became a hotspot for socializing among dog owners from diverse backgrounds.',\n",
       "  'In the heart of the Amazon rainforest, a team of scientists observed a rare, symbiotic relationship between a dog, abandoned by loggers, and a pack of wild Capuchin monkeys.',\n",
       "  'To aid in her recovery from a severe spinal injury, 35-year-old Sarah began undergoing physical therapy sessions with the assistance of a highly trained therapy dog named Duke.',\n",
       "  'Historical records show that the ancient Egyptian pharaoh, Ramses II, was often depicted in artifacts with his loyal dog, Anubis, symbolizing protection and divine authority.',\n",
       "  'The dog, a scruffy Terrier mix named Bingo, played a pivotal role in the neighborhood watch program, alerting residents to suspicious activity on Elm Street during the summer of 2018.']}"
      ]
     },
     "execution_count": 70,
     "metadata": {},
     "output_type": "execute_result"
    }
   ],
   "source": [
    "dataset = generate_sentences(api_key=NVIDIA_API_KEY,\n",
    "                             model_name=\"nvidia/llama-3.1-nemotron-70b-instruct\",\n",
    "                             animals=popular_animals)\n",
    "\n",
    "dataset[0]"
   ]
  },
  {
   "cell_type": "code",
   "execution_count": 71,
   "metadata": {},
   "outputs": [],
   "source": [
    "def preprocess(dataset):\n",
    "    # Download WordNet data\n",
    "    nltk.download('wordnet')\n",
    "    nltk.download('omw-1.4')\n",
    "\n",
    "    ner_data = []\n",
    "    lemmatizer = WordNetLemmatizer()\n",
    "\n",
    "    for entry in dataset:\n",
    "        animal = entry[\"animal\"].lower()\n",
    "        sentences = entry[\"sentences\"]\n",
    "\n",
    "        for sentence in sentences:\n",
    "            tokens = re.findall(r'\\w+|[^\\w\\s]', sentence, re.UNICODE)\n",
    "\n",
    "            lemmatized_tokens = [lemmatizer.lemmatize(\n",
    "                token).lower() for token in tokens]\n",
    "            labels = [0] * len(tokens)\n",
    "\n",
    "            animal_parts = animal.split()\n",
    "            for i in range(len(lemmatized_tokens)):\n",
    "                if i + len(animal_parts) <= len(lemmatized_tokens):\n",
    "                    # Check if we found the animal name (comparing lemmatized forms)\n",
    "                    if all(lemmatized_tokens[i + j] == lemmatizer.lemmatize(part).lower()\n",
    "                           for j, part in enumerate(animal_parts)):\n",
    "                        # Mark first token as 1 (B-tag)\n",
    "                        labels[i] = 1\n",
    "                        # Mark remaining tokens as 2 (I-tag)\n",
    "                        for j in range(1, len(animal_parts)):\n",
    "                            labels[i + j] = 2\n",
    "\n",
    "            ner_data.append({\n",
    "                \"tokens\": tokens,\n",
    "                \"labels\": labels\n",
    "            })\n",
    "\n",
    "    return ner_data"
   ]
  },
  {
   "cell_type": "code",
   "execution_count": 72,
   "metadata": {},
   "outputs": [
    {
     "name": "stderr",
     "output_type": "stream",
     "text": [
      "[nltk_data] Downloading package wordnet to\n",
      "[nltk_data]     /Users/mmosvlad/nltk_data...\n",
      "[nltk_data]   Package wordnet is already up-to-date!\n",
      "[nltk_data] Downloading package omw-1.4 to\n",
      "[nltk_data]     /Users/mmosvlad/nltk_data...\n",
      "[nltk_data]   Package omw-1.4 is already up-to-date!\n"
     ]
    },
    {
     "data": {
      "application/vnd.microsoft.datawrangler.viewer.v0+json": {
       "columns": [
        {
         "name": "index",
         "rawType": "int64",
         "type": "integer"
        },
        {
         "name": "tokens",
         "rawType": "object",
         "type": "unknown"
        },
        {
         "name": "labels",
         "rawType": "object",
         "type": "unknown"
        }
       ],
       "conversionMethod": "pd.DataFrame",
       "ref": "65bfb083-fc8c-43e0-a22f-3ba7d9a43001",
       "rows": [
        [
         "0",
         "['The', 'search', 'and', 'rescue', 'team', 'deployed', 'a', 'trained', 'dog', 'named', 'Max', 'to', 'locate', 'the', 'missing', 'hiker', 'in', 'the', 'dense', ',', 'rain', '-', 'soaked', 'woods', 'of', 'the', 'Pacific', 'Northwest', '.']",
         "[0, 0, 0, 0, 0, 0, 0, 0, 1, 0, 0, 0, 0, 0, 0, 0, 0, 0, 0, 0, 0, 0, 0, 0, 0, 0, 0, 0, 0]"
        ],
        [
         "1",
         "['As', 'she', 'walked', 'into', 'the', 'vintage', 'clothing', 'store', ',', 'a', 'friendly', 'dog', 'named', 'Lola', ',', 'dressed', 'in', 'a', 'matching', 'polka', '-', 'dot', 'scarf', ',', 'wagged', 'its', 'tail', 'behind', 'the', 'counter', '.']",
         "[0, 0, 0, 0, 0, 0, 0, 0, 0, 0, 0, 1, 0, 0, 0, 0, 0, 0, 0, 0, 0, 0, 0, 0, 0, 0, 0, 0, 0, 0, 0]"
        ],
        [
         "2",
         "['After', 'a', 'long', 'day', 'of', 'filming', ',', 'the', 'movie', 'star', 'relaxed', 'with', 'her', 'emotional', 'support', 'dog', ',', 'a', 'calm', 'Poodle', 'named', 'Fifi', ',', 'in', 'her', 'luxurious', 'trailer', 'on', 'set', '.']",
         "[0, 0, 0, 0, 0, 0, 0, 0, 0, 0, 0, 0, 0, 0, 0, 1, 0, 0, 0, 0, 0, 0, 0, 0, 0, 0, 0, 0, 0, 0]"
        ],
        [
         "3",
         "['During', 'the', 'physics', 'experiment', ',', 'the', 'dog', \"'\", 's', 'curious', 'nature', 'inadvertently', 'helped', 'students', 'at', 'Springfield', 'High', 'School', 'demonstrate', 'the', 'concept', 'of', 'gravity', 'when', 'it', 'knocked', 'over', 'a', 'ball', '.']",
         "[0, 0, 0, 0, 0, 0, 1, 0, 0, 0, 0, 0, 0, 0, 0, 0, 0, 0, 0, 0, 0, 0, 0, 0, 0, 0, 0, 0, 0, 0]"
        ],
        [
         "4",
         "['At', 'precisely', '6', ':', '00', 'AM', ',', 'the', 'dog', ',', 'a', 'sleek', 'German', 'Shepherd', 'named', 'Rocky', ',', 'began', 'its', 'daily', 'patrol', 'around', 'the', 'perimeter', 'of', 'the', 'secure', ',', 'government', 'facility', '.']",
         "[0, 0, 0, 0, 0, 0, 0, 0, 1, 0, 0, 0, 0, 0, 0, 0, 0, 0, 0, 0, 0, 0, 0, 0, 0, 0, 0, 0, 0, 0, 0]"
        ]
       ],
       "shape": {
        "columns": 2,
        "rows": 5
       }
      },
      "text/html": [
       "<div>\n",
       "<style scoped>\n",
       "    .dataframe tbody tr th:only-of-type {\n",
       "        vertical-align: middle;\n",
       "    }\n",
       "\n",
       "    .dataframe tbody tr th {\n",
       "        vertical-align: top;\n",
       "    }\n",
       "\n",
       "    .dataframe thead th {\n",
       "        text-align: right;\n",
       "    }\n",
       "</style>\n",
       "<table border=\"1\" class=\"dataframe\">\n",
       "  <thead>\n",
       "    <tr style=\"text-align: right;\">\n",
       "      <th></th>\n",
       "      <th>tokens</th>\n",
       "      <th>labels</th>\n",
       "    </tr>\n",
       "  </thead>\n",
       "  <tbody>\n",
       "    <tr>\n",
       "      <th>0</th>\n",
       "      <td>[The, search, and, rescue, team, deployed, a, ...</td>\n",
       "      <td>[0, 0, 0, 0, 0, 0, 0, 0, 1, 0, 0, 0, 0, 0, 0, ...</td>\n",
       "    </tr>\n",
       "    <tr>\n",
       "      <th>1</th>\n",
       "      <td>[As, she, walked, into, the, vintage, clothing...</td>\n",
       "      <td>[0, 0, 0, 0, 0, 0, 0, 0, 0, 0, 0, 1, 0, 0, 0, ...</td>\n",
       "    </tr>\n",
       "    <tr>\n",
       "      <th>2</th>\n",
       "      <td>[After, a, long, day, of, filming, ,, the, mov...</td>\n",
       "      <td>[0, 0, 0, 0, 0, 0, 0, 0, 0, 0, 0, 0, 0, 0, 0, ...</td>\n",
       "    </tr>\n",
       "    <tr>\n",
       "      <th>3</th>\n",
       "      <td>[During, the, physics, experiment, ,, the, dog...</td>\n",
       "      <td>[0, 0, 0, 0, 0, 0, 1, 0, 0, 0, 0, 0, 0, 0, 0, ...</td>\n",
       "    </tr>\n",
       "    <tr>\n",
       "      <th>4</th>\n",
       "      <td>[At, precisely, 6, :, 00, AM, ,, the, dog, ,, ...</td>\n",
       "      <td>[0, 0, 0, 0, 0, 0, 0, 0, 1, 0, 0, 0, 0, 0, 0, ...</td>\n",
       "    </tr>\n",
       "  </tbody>\n",
       "</table>\n",
       "</div>"
      ],
      "text/plain": [
       "                                              tokens  \\\n",
       "0  [The, search, and, rescue, team, deployed, a, ...   \n",
       "1  [As, she, walked, into, the, vintage, clothing...   \n",
       "2  [After, a, long, day, of, filming, ,, the, mov...   \n",
       "3  [During, the, physics, experiment, ,, the, dog...   \n",
       "4  [At, precisely, 6, :, 00, AM, ,, the, dog, ,, ...   \n",
       "\n",
       "                                              labels  \n",
       "0  [0, 0, 0, 0, 0, 0, 0, 0, 1, 0, 0, 0, 0, 0, 0, ...  \n",
       "1  [0, 0, 0, 0, 0, 0, 0, 0, 0, 0, 0, 1, 0, 0, 0, ...  \n",
       "2  [0, 0, 0, 0, 0, 0, 0, 0, 0, 0, 0, 0, 0, 0, 0, ...  \n",
       "3  [0, 0, 0, 0, 0, 0, 1, 0, 0, 0, 0, 0, 0, 0, 0, ...  \n",
       "4  [0, 0, 0, 0, 0, 0, 0, 0, 1, 0, 0, 0, 0, 0, 0, ...  "
      ]
     },
     "execution_count": 72,
     "metadata": {},
     "output_type": "execute_result"
    }
   ],
   "source": [
    "labeled_ds = preprocess(dataset=dataset)\n",
    "\n",
    "df = pd.DataFrame(labeled_ds)\n",
    "df.head()"
   ]
  },
  {
   "cell_type": "code",
   "execution_count": 78,
   "metadata": {},
   "outputs": [
    {
     "data": {
      "text/plain": [
       "23"
      ]
     },
     "execution_count": 78,
     "metadata": {},
     "output_type": "execute_result"
    }
   ],
   "source": [
    "len(df[df[\"labels\"].apply(lambda x: sum(x) == 0)])"
   ]
  },
  {
   "cell_type": "code",
   "execution_count": 79,
   "metadata": {},
   "outputs": [
    {
     "data": {
      "text/plain": [
       "1211"
      ]
     },
     "execution_count": 79,
     "metadata": {},
     "output_type": "execute_result"
    }
   ],
   "source": [
    "filtered_df = df[df[\"labels\"].apply(lambda x: sum(x) > 0)]\n",
    "len(filtered_df)"
   ]
  },
  {
   "cell_type": "code",
   "execution_count": 80,
   "metadata": {},
   "outputs": [],
   "source": [
    "train_df, temp_df = train_test_split(\n",
    "    filtered_df, test_size=0.3, shuffle=True, random_state=123)\n",
    "\n",
    "val_df, test_df = train_test_split(\n",
    "    temp_df, test_size=0.5, shuffle=True, random_state=123)\n",
    "\n",
    "train_df.to_csv(\"dataset/train.csv\", index=False)\n",
    "val_df.to_csv(\"dataset/val.csv\", index=False)\n",
    "test_df.to_csv(\"dataset/test.csv\", index=False)"
   ]
  }
 ],
 "metadata": {
  "kernelspec": {
   "display_name": "py3.12",
   "language": "python",
   "name": "python3"
  },
  "language_info": {
   "codemirror_mode": {
    "name": "ipython",
    "version": 3
   },
   "file_extension": ".py",
   "mimetype": "text/x-python",
   "name": "python",
   "nbconvert_exporter": "python",
   "pygments_lexer": "ipython3",
   "version": "3.12.0"
  }
 },
 "nbformat": 4,
 "nbformat_minor": 2
}
